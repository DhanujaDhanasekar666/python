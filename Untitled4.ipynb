{
  "nbformat": 4,
  "nbformat_minor": 0,
  "metadata": {
    "colab": {
      "provenance": [],
      "authorship_tag": "ABX9TyPXz+kFx08P0V+ZrRuTfZp7",
      "include_colab_link": true
    },
    "kernelspec": {
      "name": "python3",
      "display_name": "Python 3"
    },
    "language_info": {
      "name": "python"
    }
  },
  "cells": [
    {
      "cell_type": "markdown",
      "metadata": {
        "id": "view-in-github",
        "colab_type": "text"
      },
      "source": [
        "<a href=\"https://colab.research.google.com/github/DhanujaDhanasekar666/python/blob/main/Untitled4.ipynb\" target=\"_parent\"><img src=\"https://colab.research.google.com/assets/colab-badge.svg\" alt=\"Open In Colab\"/></a>"
      ]
    },
    {
      "cell_type": "code",
      "execution_count": 11,
      "metadata": {
        "colab": {
          "base_uri": "https://localhost:8080/"
        },
        "id": "7R1a1OFcC7Qg",
        "outputId": "4a373028-7538-4f19-cb15-67e9459b9af9"
      },
      "outputs": [
        {
          "output_type": "stream",
          "name": "stdout",
          "text": [
            "Enter a region (country, state, or city): India\n",
            "COVID-19 Statistics for India:\n",
            "Cases: 704753890\n",
            "Recoveries: 675619811\n",
            "Deaths: 7010681\n"
          ]
        }
      ],
      "source": [
        "\n",
        "import requests\n",
        "\n",
        "def fetch_covid_stats(region):\n",
        "    api_url = \"https://disease.sh/v3/covid-19/all\"\n",
        "\n",
        "\n",
        "    try:\n",
        "        response = requests.get(api_url)\n",
        "        response.raise_for_status()\n",
        "\n",
        "        data = response.json()\n",
        "        cases = data.get('cases')\n",
        "        recoveries = data.get('recovered')\n",
        "        deaths = data.get('deaths')\n",
        "\n",
        "        return cases, recoveries, deaths\n",
        "\n",
        "    except requests.exceptions.RequestException as e:\n",
        "        print(f\"Error fetching data: {e}\")\n",
        "        return None, None, None\n",
        "\n",
        "def main():\n",
        "    region = input(\"Enter a region (country, state, or city): \")\n",
        "    cases, recoveries, deaths = fetch_covid_stats(region)\n",
        "\n",
        "    if cases is not None:\n",
        "        print(f\"COVID-19 Statistics for {region}:\")\n",
        "        print(f\"Cases: {cases}\")\n",
        "        print(f\"Recoveries: {recoveries}\")\n",
        "        print(f\"Deaths: {deaths}\")\n",
        "    else:\n",
        "        print(\"Error fetching data. Please check the region name and try again.\")\n",
        "\n",
        "if __name__ == \"__main__\":\n",
        "    main()\n",
        "\n",
        "\n"
      ]
    }
  ]
}